{
 "cells": [
  {
   "cell_type": "markdown",
   "metadata": {},
   "source": [
    "# 영상개선함수들\n",
    "\n",
    "참고자료 https://www.tutorialspoint.com/dip/gray_level_transformations.htm\n",
    "\n",
    "## A. Negative transformation\n",
    "s = (L - 1) - r\n",
    "\n",
    "s와 r은 각 픽셀 값\n",
    "L은 최대레벨 보통 2^8 256\n",
    "\n",
    "black과 white를 바꿔준다."
   ]
  },
  {
   "cell_type": "code",
   "execution_count": 2,
   "metadata": {},
   "outputs": [],
   "source": [
    "import cv2\n",
    "import numpy as np\n",
    "import math"
   ]
  },
  {
   "cell_type": "code",
   "execution_count": null,
   "metadata": {},
   "outputs": [],
   "source": [
    "# 이미지 읽기\n",
    "img = cv2.imread('./coin/coin1.bmp', cv2.IMREAD_GRAYSCALE)\n",
    "\n",
    "# negative transformation\n",
    "result_img = 255 - img\n",
    "\n",
    "# 이미지 보여주기\n",
    "cv2.imshow('input image', img)\n",
    "cv2.imshow('negative img ', result_img)\n",
    "\n",
    "# 이미지 보여주는 창 종료\n",
    "cv2.waitKey(0)\n",
    "cv2.destroyAllWindows()"
   ]
  },
  {
   "cell_type": "markdown",
   "metadata": {},
   "source": [
    "## B. Log, inverse-log transformation\n",
    "log : s = c log(r + 1), c는 상수\n",
    "\n",
    "inverse log : s = e^(r/c) -1 \n",
    "\n",
    "1을 더해주는 이유는 log 0 이면 무한대로 가기 때문이다.\n",
    "\n",
    "좁은 지역의 값들을 넓은 이미지의 값들로 바꿔줌"
   ]
  },
  {
   "cell_type": "code",
   "execution_count": null,
   "metadata": {
    "scrolled": true
   },
   "outputs": [],
   "source": [
    "# 이미지 읽기\n",
    "img = cv2.imread('./logimage.jpg', cv2.IMREAD_GRAYSCALE)\n",
    "\n",
    "# log transformation\n",
    "# c = 30일 때\n",
    "result_img = 30 * np.uint8(np.log1p(img))\n",
    "\n",
    "# 이미지 보여주기\n",
    "cv2.imshow('input image', img)\n",
    "cv2.imshow('log-transformation img ', result_img)\n",
    "\n",
    "# 이미지 보여주는 창 종료\n",
    "cv2.waitKey(0)\n",
    "cv2.destroyAllWindows()\n",
    "\n",
    "#inverse-log transformation\n",
    "result_img = np.uint8((np.exp(img / 30) - 1))\n",
    "\n",
    "# 이미지 보여주기\n",
    "cv2.imshow('input image', img)\n",
    "cv2.imshow('inverse-log-transformation img ', result_img)\n",
    "\n",
    "# 이미지 보여주는 창 종료\n",
    "cv2.waitKey(0)\n",
    "cv2.destroyAllWindows() \n",
    "\n",
    "# c 값을 다양하게 해보았는데 왜 안되는지 모르겟다 안되는지 알려주십쇼.."
   ]
  },
  {
   "cell_type": "markdown",
   "metadata": {},
   "source": [
    "## C. Root, power transformation\n",
    "\n",
    "s = cr^y\n",
    "\n",
    "c 는 상수고 y 는 지수로 곱하는 것이다.\n",
    "\n",
    "\n",
    "여기서 중요한 것은 다만 앞서 설명한 지수 법칙 변환의 입력 값 범위가 0부터 1 사이의 실숫값이기 때문에 영상의 그레이스케일 값에 적용하려면 적당한 크기로 스케일링을 해야 한다. \n",
    "\n",
    "픽셀의 그레이스케일 값이 k라면 입력 값은 k/255로 줄여서 입력하고, 출력 값은 다시 k×255 형태로 크기를 키워주어야 한다.\n",
    "\n",
    "y가 1보다 작으면 밝아지고 1보다 크면 어두워진다!"
   ]
  },
  {
   "cell_type": "code",
   "execution_count": null,
   "metadata": {},
   "outputs": [],
   "source": [
    "# 이미지 읽기\n",
    "img = cv2.imread('./coin/coin1.bmp', cv2.IMREAD_GRAYSCALE)\n",
    "\n",
    "result_img = np.uint8((1 * np.power(img/255, 2.0)) * 255)\n",
    "result_img2 = np.uint8((1 * np.power(img/255, 0.1)) * 255) \n",
    "\n",
    "# 이미지 보여주기\n",
    "cv2.imshow('input image', img)\n",
    "cv2.imshow('2.0 gamma transformation img ', result_img)\n",
    "cv2.imshow('0.1 gamma transformation img ', result_img2)\n",
    "\n",
    "# 이미지 보여주는 창 종료\n",
    "cv2.waitKey(0)\n",
    "cv2.destroyAllWindows() "
   ]
  },
  {
   "cell_type": "markdown",
   "metadata": {},
   "source": [
    "## D. Histogram equalization\n",
    "\n",
    "cv2함수중 eqaulizeHist를 사용하자\n",
    "\n",
    "대조비가 개선된 것을 볼 수 있다.\n",
    "\n",
    "픽셀 값도 출력해 보면 균일화 되어있다."
   ]
  },
  {
   "cell_type": "code",
   "execution_count": null,
   "metadata": {},
   "outputs": [],
   "source": [
    "# 이미지 읽기\n",
    "img = cv2.imread('./coin/coin1.bmp', cv2.IMREAD_GRAYSCALE)\n",
    "\n",
    "result_img = cv2.equalizeHist(img)\n",
    "\n",
    "# 이미지 보여주기\n",
    "cv2.imshow('input image', img)\n",
    "cv2.imshow('histogram equalization img ', result_img)\n",
    "\n",
    "# 이미지 보여주는 창 종료\n",
    "cv2.waitKey(0)\n",
    "cv2.destroyAllWindows() \n",
    "\n",
    "print(img)\n",
    "print(result_img)"
   ]
  },
  {
   "cell_type": "markdown",
   "metadata": {},
   "source": [
    "# Spatial Domain Filters\n",
    "## A. salt pepper noise\n",
    "\n",
    "스무딩 필터 여러가지를 적용해 보겠다.\n",
    "\n",
    "참고자료 https://docs.opencv.org/3.0-beta/doc/py_tutorials/py_imgproc/py_filtering/py_filtering.html\n",
    "### averaging filter 3 x 3 와 7 x 7 로 적용\n",
    "sp noise는 제거된거 처럼 보이는데 그냥 흐리게 보인다..\n",
    "\n",
    "필터 크기가 클수록 더 blurring된다."
   ]
  },
  {
   "cell_type": "code",
   "execution_count": null,
   "metadata": {},
   "outputs": [],
   "source": [
    "# 이미지 읽기\n",
    "img = cv2.imread('./coin/coin1-spnoise3.bmp', cv2.IMREAD_GRAYSCALE)\n",
    "\n",
    "result_img = cv2.blur(img,(3,3))\n",
    "result_img2 = cv2.blur(img,(7,7))\n",
    "\n",
    "# 이미지 보여주기(윈도우 크기 조절 가능)\n",
    "cv2.namedWindow('input image', cv2.WINDOW_NORMAL) \n",
    "cv2.imshow('input image', img)\n",
    "cv2.namedWindow('3 x 3 averaging filter img ', cv2.WINDOW_NORMAL) \n",
    "cv2.imshow('3 x 3 averaging filter img ', result_img)\n",
    "cv2.namedWindow('7 x 7 averaging filter img ', cv2.WINDOW_NORMAL) \n",
    "cv2.imshow('7 x 7 averaging filter img ', result_img2)\n",
    "\n",
    "# 이미지 보여주는 창 종료\n",
    "cv2.waitKey(0)\n",
    "cv2.destroyAllWindows() "
   ]
  },
  {
   "cell_type": "markdown",
   "metadata": {},
   "source": [
    "### gaussian blurring\n",
    "\n",
    "솔트 페퍼 노이즈 같은 경우 averaging filter와 큰 차이가 없다"
   ]
  },
  {
   "cell_type": "code",
   "execution_count": null,
   "metadata": {},
   "outputs": [],
   "source": [
    "# 이미지 읽기\n",
    "img = cv2.imread('./coin/coin1-spnoise3.bmp', cv2.IMREAD_GRAYSCALE)\n",
    "\n",
    "result_img = cv2.GaussianBlur(img,(3,3),0)\n",
    "result_img2 = cv2.GaussianBlur(img,(7,7),0)\n",
    "\n",
    "# 이미지 보여주기(윈도우 크기 조절 가능)\n",
    "cv2.namedWindow('input image', cv2.WINDOW_NORMAL) \n",
    "cv2.imshow('input image', img)\n",
    "cv2.namedWindow('3 x 3 gaussian filter img ', cv2.WINDOW_NORMAL) \n",
    "cv2.imshow('3 x 3 gaussian filter img ', result_img)\n",
    "cv2.namedWindow('7 x 7 gaussian filter img ', cv2.WINDOW_NORMAL) \n",
    "cv2.imshow('7 x 7 gaussian filter img ', result_img2)\n",
    "\n",
    "# 이미지 보여주는 창 종료\n",
    "cv2.waitKey(0)\n",
    "cv2.destroyAllWindows() "
   ]
  },
  {
   "cell_type": "markdown",
   "metadata": {},
   "source": [
    "### medianfilter 3 x 3, 7 x 7\n",
    "\n",
    "솔트페퍼 노이즈에 제일 효과적인 필터링이다!"
   ]
  },
  {
   "cell_type": "code",
   "execution_count": null,
   "metadata": {},
   "outputs": [],
   "source": [
    "# 이미지 읽기\n",
    "img = cv2.imread('./coin/coin1-spnoise3.bmp', cv2.IMREAD_GRAYSCALE)\n",
    "\n",
    "result_img = cv2.medianBlur(img, 3)\n",
    "result_img2 = cv2.medianBlur(img, 7)\n",
    "\n",
    "# 이미지 보여주기(윈도우 크기 조절 가능)\n",
    "cv2.namedWindow('input image', cv2.WINDOW_NORMAL) \n",
    "cv2.imshow('input image', img)\n",
    "cv2.namedWindow('3 x 3 median filter img ', cv2.WINDOW_NORMAL) \n",
    "cv2.imshow('3 x 3 median filter img ', result_img)\n",
    "cv2.namedWindow('7 x 7 median filter img ', cv2.WINDOW_NORMAL) \n",
    "cv2.imshow('7 x 7 median filter img ', result_img2)\n",
    "\n",
    "# 이미지 보여주는 창 종료\n",
    "cv2.waitKey(0)\n",
    "cv2.destroyAllWindows() "
   ]
  },
  {
   "cell_type": "markdown",
   "metadata": {},
   "source": [
    "## B. gaussian noise\n",
    "\n",
    "참고자료\n",
    "https://docs.opencv.org/3.4/d5/d69/tutorial_py_non_local_means.html\n",
    "\n",
    "median filter와 새로 알게된 함수로 제거해보았다. \n",
    "\n",
    "median이 더 보존효과가 뛰어나지만\n",
    "\n",
    "새로써본 함수가 노이즈제거는 더 탁월하다."
   ]
  },
  {
   "cell_type": "code",
   "execution_count": null,
   "metadata": {},
   "outputs": [],
   "source": [
    "# 이미지 읽기\n",
    "img = cv2.imread('./coin/coin1-gaussian.bmp', cv2.IMREAD_COLOR)\n",
    "\n",
    "#color image만 가능하다.\n",
    "result_img = cv2.fastNlMeansDenoisingColored(img, None, 10, 10, 7, 21)\n",
    "result_img2 = cv2.medianBlur(img, 7)\n",
    "\n",
    "# 이미지 보여주기(윈도우 크기 조절 가능)\n",
    "cv2.namedWindow('input image', cv2.WINDOW_NORMAL) \n",
    "cv2.imshow('input image', img)\n",
    "cv2.namedWindow('result_img ', cv2.WINDOW_NORMAL) \n",
    "cv2.imshow('result_img ', result_img)\n",
    "cv2.namedWindow('median blur', cv2.WINDOW_NORMAL) \n",
    "cv2.imshow('median blur', result_img2)\n",
    "\n",
    "# 이미지 보여주는 창 종료\n",
    "cv2.waitKey(0)\n",
    "cv2.destroyAllWindows() "
   ]
  },
  {
   "cell_type": "markdown",
   "metadata": {},
   "source": [
    "## C. Blurring -> Sharpening\n",
    "\n",
    "참고자료 https://medium.com/@almutawakel.ali/opencv-filters-arithmetic-operations-2f4ff236d6aa\n",
    "\n",
    "라플라시안 필터를 만들어서 적용하였다. 엣지가 선명해진것을 확인 할 수 있다."
   ]
  },
  {
   "cell_type": "code",
   "execution_count": null,
   "metadata": {},
   "outputs": [],
   "source": [
    "# 이미지 읽기\n",
    "img = cv2.imread('./coin/coin1-blur.bmp', cv2.IMREAD_COLOR)\n",
    "\n",
    "# 샤프닝 필터(라플라시안 필터)\n",
    "kernel_sharpening = np.array([[-1,-1,-1], \n",
    "                              [-1, 9,-1],\n",
    "                              [-1,-1,-1]])\n",
    "\n",
    "# 필터 적용\n",
    "result_img = cv2.filter2D(img, -1, kernel_sharpening)\n",
    "\n",
    "# 이미지 보여주기(윈도우 크기 조절 가능)\n",
    "cv2.namedWindow('input image', cv2.WINDOW_NORMAL) \n",
    "cv2.imshow('input image', img)\n",
    "cv2.namedWindow('result_img', cv2.WINDOW_NORMAL) \n",
    "cv2.imshow('result_img', result_img)\n",
    "\n",
    "# 이미지 보여주는 창 종료\n",
    "cv2.waitKey(0)\n",
    "cv2.destroyAllWindows() "
   ]
  },
  {
   "cell_type": "markdown",
   "metadata": {},
   "source": [
    "## D. low contrast\n",
    "\n",
    "대조비에 대한 설명이 잘되어 있음\n",
    "\n",
    "참고자료 : https://www.thephoblographer.com/2018/03/06/high-contrast-vs-low-contrast-black-and-white-photo-editing-whats-the-difference/\n",
    "\n",
    "히스토그램 보여주기\n",
    "\n",
    "참고자료 :https://docs.opencv.org/3.1.0/d1/db7/tutorial_py_histogram_begins.html\n",
    "\n",
    "histogram equalization을 이용하면 된다.\n",
    "영상개선함수 참조"
   ]
  },
  {
   "cell_type": "code",
   "execution_count": 4,
   "metadata": {},
   "outputs": [
    {
     "data": {
      "image/png": "[encoded data removed]",
      "text/plain": [
       "<Figure size 432x288 with 1 Axes>"
      ]
     },
     "metadata": {
      "needs_background": "light"
     },
     "output_type": "display_data"
    },
    {
     "data": {
      "image/png": "[encoded data removed]",
      "text/plain": [
       "<Figure size 432x288 with 1 Axes>"
      ]
     },
     "metadata": {
      "needs_background": "light"
     },
     "output_type": "display_data"
    },
    {
     "name": "stdout",
     "output_type": "stream",
     "text": [
      "[[160 159 157 ... 144 174   0]\n",
      " [158 158 156 ... 145 182   0]\n",
      " [156 157 156 ... 135 154   0]\n",
      " ...\n",
      " [112 114 112 ... 107 124   0]\n",
      " [113 112 116 ... 105 121   0]\n",
      " [112 114 110 ... 116 139   0]]\n",
      "[[254 253 250 ... 155 255   0]\n",
      " [252 252 246 ... 162 255   0]\n",
      " [246 250 246 ...  88 231   0]\n",
      " ...\n",
      " [ 42  43  42 ...  42  48   0]\n",
      " [ 43  42  43 ...  42  45   0]\n",
      " [ 42  43  42 ...  43 117   0]]\n"
     ]
    }
   ],
   "source": [
    "# 이미지 읽기\n",
    "img = cv2.imread('./coin/coin1.bmp', cv2.IMREAD_GRAYSCALE)\n",
    "\n",
    "from matplotlib import pyplot as plt\n",
    "\n",
    "result_img = cv2.equalizeHist(img)\n",
    "plt.hist(img.ravel(),256,[0,256]); plt.show()\n",
    "plt.hist(result_img.ravel(),256,[0,256]); plt.show()\n",
    "\n",
    "# 이미지 보여주기\n",
    "cv2.imshow('input image', img)\n",
    "cv2.imshow('histogram equalization img ', result_img)\n",
    "\n",
    "# 이미지 보여주는 창 종료\n",
    "cv2.waitKey(0)\n",
    "cv2.destroyAllWindows() "
   ]
  },
  {
   "cell_type": "code",
   "execution_count": null,
   "metadata": {},
   "outputs": [],
   "source": []
  },
  {
   "cell_type": "code",
   "execution_count": null,
   "metadata": {},
   "outputs": [],
   "source": []
  }
 ],
 "metadata": {
  "kernelspec": {
   "display_name": "Python 3",
   "language": "python",
   "name": "python3"
  },
  "language_info": {
   "codemirror_mode": {
    "name": "ipython",
    "version": 3
   },
   "file_extension": ".py",
   "mimetype": "text/x-python",
   "name": "python",
   "nbconvert_exporter": "python",
   "pygments_lexer": "ipython3",
   "version": "3.6.6"
  }
 },
 "nbformat": 4,
 "nbformat_minor": 2
}
